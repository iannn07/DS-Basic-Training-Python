{
 "cells": [
  {
   "cell_type": "markdown",
   "metadata": {},
   "source": [
    "# Working with Pandas for CSV files"
   ]
  },
  {
   "cell_type": "code",
   "execution_count": 1,
   "metadata": {},
   "outputs": [],
   "source": [
    "import pandas as pd"
   ]
  },
  {
   "cell_type": "code",
   "execution_count": 14,
   "metadata": {},
   "outputs": [
    {
     "name": "stdout",
     "output_type": "stream",
     "text": [
      "DATASET\n",
      "                   order  age  height                  party\n",
      "name                                                        \n",
      "George Washington      1   57     189                   none\n",
      "John Adams             2   61     170             federalist\n",
      "Thomas Jefferson       3   57     189  democratic-republican\n",
      "James Madison          4   57     163  democratic-republican\n",
      "James Monroe           5   58     183  democratic-republican \n",
      "\n",
      "DF Shape = (45, 4)\n",
      "DF Size = 180\n",
      "DF Rows = 45 & DF Column = 4\n"
     ]
    }
   ],
   "source": [
    "# Let's take the data from Sololearn\n",
    "us_president = pd.read_csv('https://sololearn.com/uploads/files/president_heights_party.csv', index_col='name')\n",
    "\n",
    "# Too many data, decrease it\n",
    "print(\"DATASET\")\n",
    "print(us_president[:5], \"\\n\")\n",
    "print(\"DF Shape =\", us_president.shape)\n",
    "print(\"DF Size =\", us_president.size)\n",
    "print(\"DF Rows =\", us_president.shape[0], \"& DF Column =\", us_president.shape[1])"
   ]
  },
  {
   "cell_type": "code",
   "execution_count": 16,
   "metadata": {},
   "outputs": [
    {
     "name": "stdout",
     "output_type": "stream",
     "text": [
      "HEAD & TAIL\n",
      "                   order  age  height                  party\n",
      "name                                                        \n",
      "George Washington      1   57     189                   none\n",
      "John Adams             2   61     170             federalist\n",
      "Thomas Jefferson       3   57     189  democratic-republican\n",
      "James Madison          4   57     163  democratic-republican\n",
      "James Monroe           5   58     183  democratic-republican \n",
      "\n",
      "                   order  age  height       party\n",
      "name                                             \n",
      "George H. W. Bush     41   64     188  republican\n",
      "Bill Clinton          42   46     188  democratic\n",
      "George W. Bush        43   54     182  republican\n",
      "Barack Obama          44   47     185  democratic\n",
      "Donald J. Trump       45   70     191  republican\n"
     ]
    }
   ],
   "source": [
    "# We may use .head and .tail to determine whether the data has been set into the right column or not\n",
    "print(\"HEAD & TAIL\")\n",
    "print(us_president.head(n=5), \"\\n\")\n",
    "print(us_president.tail())"
   ]
  },
  {
   "cell_type": "code",
   "execution_count": 17,
   "metadata": {},
   "outputs": [
    {
     "name": "stdout",
     "output_type": "stream",
     "text": [
      "<class 'pandas.core.frame.DataFrame'>\n",
      "Index: 45 entries, George Washington to Donald J. Trump\n",
      "Data columns (total 4 columns):\n",
      " #   Column  Non-Null Count  Dtype \n",
      "---  ------  --------------  ----- \n",
      " 0   order   45 non-null     int64 \n",
      " 1   age     45 non-null     int64 \n",
      " 2   height  45 non-null     int64 \n",
      " 3   party   45 non-null     object\n",
      "dtypes: int64(3), object(1)\n",
      "memory usage: 1.8+ KB\n"
     ]
    }
   ],
   "source": [
    "# And we can use .info to get the overview of the DF\n",
    "us_president.info()"
   ]
  }
 ],
 "metadata": {
  "kernelspec": {
   "display_name": "Python 3",
   "language": "python",
   "name": "python3"
  },
  "language_info": {
   "codemirror_mode": {
    "name": "ipython",
    "version": 3
   },
   "file_extension": ".py",
   "mimetype": "text/x-python",
   "name": "python",
   "nbconvert_exporter": "python",
   "pygments_lexer": "ipython3",
   "version": "3.9.13"
  },
  "orig_nbformat": 4
 },
 "nbformat": 4,
 "nbformat_minor": 2
}
