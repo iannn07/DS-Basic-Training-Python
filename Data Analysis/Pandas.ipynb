{
 "cells": [
  {
   "cell_type": "markdown",
   "metadata": {},
   "source": [
    "# Pandas Series"
   ]
  },
  {
   "cell_type": "code",
   "execution_count": 3,
   "metadata": {},
   "outputs": [],
   "source": [
    "import pandas as pd"
   ]
  },
  {
   "cell_type": "code",
   "execution_count": 16,
   "metadata": {},
   "outputs": [
    {
     "name": "stdout",
     "output_type": "stream",
     "text": [
      "Basic Syntax =\n"
     ]
    },
    {
     "data": {
      "text/plain": [
       "a    1\n",
       "b    2\n",
       "c    3\n",
       "dtype: int64"
      ]
     },
     "execution_count": 16,
     "metadata": {},
     "output_type": "execute_result"
    }
   ],
   "source": [
    "# Pandas Series (Basic Syntax)\n",
    "basic = pd.Series(\n",
    "        [1, 2, 3],\n",
    "        index=['a', 'b', 'c']\n",
    "    )\n",
    "print(\"Basic Syntax =\")\n",
    "basic"
   ]
  },
  {
   "cell_type": "code",
   "execution_count": 15,
   "metadata": {},
   "outputs": [
    {
     "name": "stdout",
     "output_type": "stream",
     "text": [
      "Using Dictionary =\n"
     ]
    },
    {
     "data": {
      "text/plain": [
       "a    1\n",
       "b    2\n",
       "c    3\n",
       "dtype: int64"
      ]
     },
     "execution_count": 15,
     "metadata": {},
     "output_type": "execute_result"
    }
   ],
   "source": [
    "# Pandas Series using Dictionary\n",
    "dict = pd.Series({'a': 1, 'b': 2, 'c': 3})\n",
    "print(\"Using Dictionary =\")\n",
    "dict\n",
    "\n",
    "# Example of Dictionary/Format in case you forget of Comp Bio\n",
    "# result = \"Nucleotide Freq: {} \\nGC: {:.2f} \\nAT: {:.2f} \\nTemp by GC Content:{:.2f} °C\\nTemp by Wallace rule: {:.2f} °C\\nWeight: {:.2f} g/mol\".format(freq, gc, at, melting, mt_wallace, weight)\n"
   ]
  },
  {
   "cell_type": "code",
   "execution_count": 11,
   "metadata": {},
   "outputs": [
    {
     "data": {
      "text/plain": [
       "1"
      ]
     },
     "execution_count": 11,
     "metadata": {},
     "output_type": "execute_result"
    }
   ],
   "source": [
    "# Accessing a series\n",
    "dict['a']"
   ]
  },
  {
   "cell_type": "markdown",
   "metadata": {},
   "source": [
    "# Pandas Dataframe"
   ]
  },
  {
   "cell_type": "markdown",
   "metadata": {},
   "source": [
    "Remember Dataframe in R? This one has similar concept with it. It uses 2D array to store multiple data types within one dataframe. One way to create a DataFrame from scratch is to pass in a **dict**."
   ]
  },
  {
   "cell_type": "code",
   "execution_count": 22,
   "metadata": {},
   "outputs": [
    {
     "data": {
      "text/html": [
       "<div>\n",
       "<style scoped>\n",
       "    .dataframe tbody tr th:only-of-type {\n",
       "        vertical-align: middle;\n",
       "    }\n",
       "\n",
       "    .dataframe tbody tr th {\n",
       "        vertical-align: top;\n",
       "    }\n",
       "\n",
       "    .dataframe thead th {\n",
       "        text-align: right;\n",
       "    }\n",
       "</style>\n",
       "<table border=\"1\" class=\"dataframe\">\n",
       "  <thead>\n",
       "    <tr style=\"text-align: right;\">\n",
       "      <th></th>\n",
       "      <th>Cars</th>\n",
       "      <th>Engine</th>\n",
       "    </tr>\n",
       "  </thead>\n",
       "  <tbody>\n",
       "    <tr>\n",
       "      <th>0</th>\n",
       "      <td>Audi A4</td>\n",
       "      <td>2.0 Tdi</td>\n",
       "    </tr>\n",
       "    <tr>\n",
       "      <th>1</th>\n",
       "      <td>Toyota Prius</td>\n",
       "      <td>VVT-i</td>\n",
       "    </tr>\n",
       "    <tr>\n",
       "      <th>2</th>\n",
       "      <td>Mitsubishi Pajero Sport</td>\n",
       "      <td>4N15</td>\n",
       "    </tr>\n",
       "    <tr>\n",
       "      <th>3</th>\n",
       "      <td>Toyota Innova Kijang Reborn</td>\n",
       "      <td>2GD</td>\n",
       "    </tr>\n",
       "  </tbody>\n",
       "</table>\n",
       "</div>"
      ],
      "text/plain": [
       "                          Cars   Engine\n",
       "0                      Audi A4  2.0 Tdi\n",
       "1                 Toyota Prius    VVT-i\n",
       "2      Mitsubishi Pajero Sport     4N15\n",
       "3  Toyota Innova Kijang Reborn      2GD"
      ]
     },
     "execution_count": 22,
     "metadata": {},
     "output_type": "execute_result"
    }
   ],
   "source": [
    "# Here's an example of Dataframe\n",
    "\n",
    "engine_dict = {\n",
    "    'Cars': ['Audi A4', 'Toyota Prius', 'Mitsubishi Pajero Sport', 'Toyota Innova Kijang Reborn'],\n",
    "    'Engine': ['2.0 Tdi', 'VVT-i', '4N15', '2GD'],\n",
    "}\n",
    "\n",
    "df_engine = pd.DataFrame(engine_dict)\n",
    "df_engine.head()"
   ]
  },
  {
   "cell_type": "code",
   "execution_count": 23,
   "metadata": {},
   "outputs": [
    {
     "data": {
      "text/plain": [
       "0    2.0 Tdi\n",
       "1      VVT-i\n",
       "2       4N15\n",
       "3        2GD\n",
       "Name: Engine, dtype: object"
      ]
     },
     "execution_count": 23,
     "metadata": {},
     "output_type": "execute_result"
    }
   ],
   "source": [
    "# In accessing specific index, we may do this instead\n",
    "df_engine['Engine']"
   ]
  },
  {
   "cell_type": "code",
   "execution_count": 27,
   "metadata": {},
   "outputs": [
    {
     "data": {
      "text/html": [
       "<div>\n",
       "<style scoped>\n",
       "    .dataframe tbody tr th:only-of-type {\n",
       "        vertical-align: middle;\n",
       "    }\n",
       "\n",
       "    .dataframe tbody tr th {\n",
       "        vertical-align: top;\n",
       "    }\n",
       "\n",
       "    .dataframe thead th {\n",
       "        text-align: right;\n",
       "    }\n",
       "</style>\n",
       "<table border=\"1\" class=\"dataframe\">\n",
       "  <thead>\n",
       "    <tr style=\"text-align: right;\">\n",
       "      <th></th>\n",
       "      <th>Cars</th>\n",
       "      <th>Engine</th>\n",
       "    </tr>\n",
       "  </thead>\n",
       "  <tbody>\n",
       "    <tr>\n",
       "      <th>4</th>\n",
       "      <td>Audi A4</td>\n",
       "      <td>2.0 Tdi</td>\n",
       "    </tr>\n",
       "    <tr>\n",
       "      <th>3</th>\n",
       "      <td>Toyota Prius</td>\n",
       "      <td>VVT-i</td>\n",
       "    </tr>\n",
       "    <tr>\n",
       "      <th>2</th>\n",
       "      <td>Mitsubishi Pajero Sport</td>\n",
       "      <td>4N15</td>\n",
       "    </tr>\n",
       "    <tr>\n",
       "      <th>1</th>\n",
       "      <td>Toyota Innova Kijang Reborn</td>\n",
       "      <td>2GD</td>\n",
       "    </tr>\n",
       "  </tbody>\n",
       "</table>\n",
       "</div>"
      ],
      "text/plain": [
       "                          Cars   Engine\n",
       "4                      Audi A4  2.0 Tdi\n",
       "3                 Toyota Prius    VVT-i\n",
       "2      Mitsubishi Pajero Sport     4N15\n",
       "1  Toyota Innova Kijang Reborn      2GD"
      ]
     },
     "execution_count": 27,
     "metadata": {},
     "output_type": "execute_result"
    }
   ],
   "source": [
    "# We also change the index to be customized like this\n",
    "custom_df_engine = pd.DataFrame(engine_dict, index=[4, 3, 2, 1])\n",
    "custom_df_engine"
   ]
  },
  {
   "cell_type": "code",
   "execution_count": 48,
   "metadata": {},
   "outputs": [
    {
     "data": {
      "text/html": [
       "<div>\n",
       "<style scoped>\n",
       "    .dataframe tbody tr th:only-of-type {\n",
       "        vertical-align: middle;\n",
       "    }\n",
       "\n",
       "    .dataframe tbody tr th {\n",
       "        vertical-align: top;\n",
       "    }\n",
       "\n",
       "    .dataframe thead th {\n",
       "        text-align: right;\n",
       "    }\n",
       "</style>\n",
       "<table border=\"1\" class=\"dataframe\">\n",
       "  <thead>\n",
       "    <tr style=\"text-align: right;\">\n",
       "      <th></th>\n",
       "      <th>Engine</th>\n",
       "    </tr>\n",
       "    <tr>\n",
       "      <th>Cars</th>\n",
       "      <th></th>\n",
       "    </tr>\n",
       "  </thead>\n",
       "  <tbody>\n",
       "    <tr>\n",
       "      <th>Audi A4</th>\n",
       "      <td>2.0 Tdi</td>\n",
       "    </tr>\n",
       "    <tr>\n",
       "      <th>Toyota Prius</th>\n",
       "      <td>VVT-i</td>\n",
       "    </tr>\n",
       "    <tr>\n",
       "      <th>Mitsubishi Pajero Sport</th>\n",
       "      <td>4N15</td>\n",
       "    </tr>\n",
       "    <tr>\n",
       "      <th>Toyota Innova Kijang Reborn</th>\n",
       "      <td>2GD</td>\n",
       "    </tr>\n",
       "  </tbody>\n",
       "</table>\n",
       "</div>"
      ],
      "text/plain": [
       "                              Engine\n",
       "Cars                                \n",
       "Audi A4                      2.0 Tdi\n",
       "Toyota Prius                   VVT-i\n",
       "Mitsubishi Pajero Sport         4N15\n",
       "Toyota Innova Kijang Reborn      2GD"
      ]
     },
     "execution_count": 48,
     "metadata": {},
     "output_type": "execute_result"
    }
   ],
   "source": [
    "# Other method to customize the index is using\n",
    "cars_index = pd.DataFrame(engine_dict)\n",
    "cars_index.set_index('Cars')"
   ]
  },
  {
   "cell_type": "code",
   "execution_count": 45,
   "metadata": {},
   "outputs": [
    {
     "name": "stdout",
     "output_type": "stream",
     "text": [
      "By Ascending\n",
      "                           Cars   Engine\n",
      "4                      Audi A4  2.0 Tdi\n",
      "1  Toyota Innova Kijang Reborn      2GD\n",
      "2      Mitsubishi Pajero Sport     4N15\n",
      "3                 Toyota Prius    VVT-i \n",
      "\n",
      "By Descending\n",
      "                           Cars   Engine\n",
      "3                 Toyota Prius    VVT-i\n",
      "2      Mitsubishi Pajero Sport     4N15\n",
      "1  Toyota Innova Kijang Reborn      2GD\n",
      "4                      Audi A4  2.0 Tdi\n"
     ]
    }
   ],
   "source": [
    "# And to sort it asc by using this\n",
    "df_sort = custom_df_engine.sort_values(by='Engine')\n",
    "print(\"By Ascending\\n\", df_sort, \"\\n\")\n",
    "df_sort_desc = custom_df_engine.sort_values(by='Engine', ascending=False)\n",
    "print(\"By Descending\\n\", df_sort_desc)"
   ]
  }
 ],
 "metadata": {
  "kernelspec": {
   "display_name": "Python 3",
   "language": "python",
   "name": "python3"
  },
  "language_info": {
   "codemirror_mode": {
    "name": "ipython",
    "version": 3
   },
   "file_extension": ".py",
   "mimetype": "text/x-python",
   "name": "python",
   "nbconvert_exporter": "python",
   "pygments_lexer": "ipython3",
   "version": "3.9.13"
  },
  "orig_nbformat": 4
 },
 "nbformat": 4,
 "nbformat_minor": 2
}
