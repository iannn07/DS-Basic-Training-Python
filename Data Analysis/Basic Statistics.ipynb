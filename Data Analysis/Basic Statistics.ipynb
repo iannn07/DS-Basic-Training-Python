{
 "cells": [
  {
   "cell_type": "markdown",
   "metadata": {},
   "source": [
    "# Basic Statistics Using Pandas\n",
    "\n",
    "This may includes the Measures of Location and Measures of Spread\n",
    "\n",
    "### Measures of Location\n",
    "- Min, Max, Mean\n",
    "\n",
    "### Measures of Spread\n",
    "- Range, Variance, Standard Deviation\n",
    "\n",
    "> This method also works on Series Type"
   ]
  },
  {
   "cell_type": "code",
   "execution_count": 1,
   "metadata": {},
   "outputs": [],
   "source": [
    "import pandas as pd\n",
    "\n",
    "# Let's take the data from Sololearn\n",
    "us_president = pd.read_csv('https://sololearn.com/uploads/files/president_heights_party.csv', index_col='name')"
   ]
  },
  {
   "cell_type": "code",
   "execution_count": 2,
   "metadata": {},
   "outputs": [
    {
     "name": "stdout",
     "output_type": "stream",
     "text": [
      "Minimum:\n",
      " order              1\n",
      "age               42\n",
      "height           163\n",
      "party     democratic\n",
      "dtype: object \n",
      "\n",
      "Maximum:\n",
      " order       45\n",
      "age         70\n",
      "height     193\n",
      "party     whig\n",
      "dtype: object \n",
      "\n",
      "Mean:\n",
      " order      23.022222\n",
      "age        55.000000\n",
      "height    180.000000\n",
      "dtype: float64\n"
     ]
    },
    {
     "name": "stderr",
     "output_type": "stream",
     "text": [
      "C:\\Users\\Iannn\\AppData\\Local\\Temp\\ipykernel_11592\\1745042725.py:4: FutureWarning: Dropping of nuisance columns in DataFrame reductions (with 'numeric_only=None') is deprecated; in a future version this will raise TypeError.  Select only valid columns before calling the reduction.\n",
      "  print(\"Mean:\\n\", us_president.mean())\n"
     ]
    }
   ],
   "source": [
    "# Examples of Measures of Location\n",
    "print(\"Minimum:\\n\", us_president.min(), \"\\n\")\n",
    "print(\"Maximum:\\n\", us_president.max(), \"\\n\")\n",
    "print(\"Mean:\\n\", us_president.mean())"
   ]
  },
  {
   "cell_type": "code",
   "execution_count": 9,
   "metadata": {},
   "outputs": [
    {
     "name": "stdout",
     "output_type": "stream",
     "text": [
      "Series:\n",
      " 42 \n",
      "\n",
      "DF:\n",
      " age        55.0\n",
      "height    180.0\n",
      "dtype: float64\n"
     ]
    }
   ],
   "source": [
    "# Examples by Series and DF\n",
    "print(\"Series:\\n\", us_president['age'].min(), \"\\n\")\n",
    "print(\"DF:\\n\", us_president[['age', 'height']].mean())"
   ]
  },
  {
   "cell_type": "markdown",
   "metadata": {},
   "source": [
    "# Quantiles\n",
    "\n"
   ]
  }
 ],
 "metadata": {
  "kernelspec": {
   "display_name": "Python 3",
   "language": "python",
   "name": "python3"
  },
  "language_info": {
   "codemirror_mode": {
    "name": "ipython",
    "version": 3
   },
   "file_extension": ".py",
   "mimetype": "text/x-python",
   "name": "python",
   "nbconvert_exporter": "python",
   "pygments_lexer": "ipython3",
   "version": "3.9.13"
  },
  "orig_nbformat": 4
 },
 "nbformat": 4,
 "nbformat_minor": 2
}
