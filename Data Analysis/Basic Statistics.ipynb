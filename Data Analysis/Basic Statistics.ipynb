{
 "cells": [
  {
   "cell_type": "markdown",
   "metadata": {},
   "source": [
    "# Basic Statistics Using Pandas\n",
    "\n",
    "This may includes the Measures of Location and Measures of Spread\n",
    "\n",
    "> This method also works on Series Type"
   ]
  },
  {
   "cell_type": "markdown",
   "metadata": {},
   "source": [
    "\n",
    "## Measures of Location\n",
    "- Min, Max, Mean"
   ]
  },
  {
   "cell_type": "code",
   "execution_count": 1,
   "metadata": {},
   "outputs": [],
   "source": [
    "import pandas as pd\n",
    "\n",
    "# Let's take the data from Sololearn\n",
    "us_president = pd.read_csv('https://sololearn.com/uploads/files/president_heights_party.csv', index_col='name')"
   ]
  },
  {
   "cell_type": "code",
   "execution_count": 2,
   "metadata": {},
   "outputs": [
    {
     "name": "stdout",
     "output_type": "stream",
     "text": [
      "Minimum:\n",
      " order              1\n",
      "age               42\n",
      "height           163\n",
      "party     democratic\n",
      "dtype: object \n",
      "\n",
      "Maximum:\n",
      " order       45\n",
      "age         70\n",
      "height     193\n",
      "party     whig\n",
      "dtype: object \n",
      "\n",
      "Mean:\n",
      " order      23.022222\n",
      "age        55.000000\n",
      "height    180.000000\n",
      "dtype: float64\n"
     ]
    },
    {
     "name": "stderr",
     "output_type": "stream",
     "text": [
      "C:\\Users\\Iannn\\AppData\\Local\\Temp\\ipykernel_11592\\1745042725.py:4: FutureWarning: Dropping of nuisance columns in DataFrame reductions (with 'numeric_only=None') is deprecated; in a future version this will raise TypeError.  Select only valid columns before calling the reduction.\n",
      "  print(\"Mean:\\n\", us_president.mean())\n"
     ]
    }
   ],
   "source": [
    "# Examples of Measures of Location\n",
    "print(\"Minimum:\\n\", us_president.min(), \"\\n\")\n",
    "print(\"Maximum:\\n\", us_president.max(), \"\\n\")\n",
    "print(\"Mean:\\n\", us_president.mean())"
   ]
  },
  {
   "cell_type": "code",
   "execution_count": 11,
   "metadata": {},
   "outputs": [
    {
     "name": "stdout",
     "output_type": "stream",
     "text": [
      "Series:\n",
      " 42 \n",
      "\n",
      "DF:\n",
      " age        55.0\n",
      "height    180.0\n",
      "dtype: float64 \n",
      "\n",
      "Median:\n",
      " 55.0\n"
     ]
    }
   ],
   "source": [
    "# Examples by Series and DF\n",
    "print(\"Series:\\n\", us_president['age'].min(), \"\\n\")\n",
    "print(\"DF:\\n\", us_president[['age', 'height']].mean(), \"\\n\")\n",
    "print(\"Median:\\n\", us_president['age'].median())"
   ]
  },
  {
   "cell_type": "markdown",
   "metadata": {},
   "source": [
    "## Quantiles\n",
    "\n",
    "As its names, quantiles divides the range of data into continuous intervals with equals number of observations. It's similar like median, where the median is used to divide a range of data to be 50% of it. Meanwhile quantile, divides a range of data to be four groups, which we may obtain 25% for each groups."
   ]
  },
  {
   "cell_type": "code",
   "execution_count": 15,
   "metadata": {},
   "outputs": [
    {
     "data": {
      "text/plain": [
       "0.25    51.0\n",
       "0.50    55.0\n",
       "0.75    58.0\n",
       "1.00    70.0\n",
       "Name: age, dtype: float64"
      ]
     },
     "execution_count": 15,
     "metadata": {},
     "output_type": "execute_result"
    }
   ],
   "source": [
    "# Let's get started by the example\n",
    "# As you can see above, we have already obtained the median of the age. Now let's find the quantiles\n",
    "\n",
    "us_president['age'].quantile([0.25, 0.5, 0.75, 1]).head()"
   ]
  },
  {
   "cell_type": "code",
   "execution_count": 17,
   "metadata": {},
   "outputs": [
    {
     "data": {
      "text/html": [
       "<div>\n",
       "<style scoped>\n",
       "    .dataframe tbody tr th:only-of-type {\n",
       "        vertical-align: middle;\n",
       "    }\n",
       "\n",
       "    .dataframe tbody tr th {\n",
       "        vertical-align: top;\n",
       "    }\n",
       "\n",
       "    .dataframe thead th {\n",
       "        text-align: right;\n",
       "    }\n",
       "</style>\n",
       "<table border=\"1\" class=\"dataframe\">\n",
       "  <thead>\n",
       "    <tr style=\"text-align: right;\">\n",
       "      <th></th>\n",
       "      <th>age</th>\n",
       "      <th>height</th>\n",
       "    </tr>\n",
       "  </thead>\n",
       "  <tbody>\n",
       "    <tr>\n",
       "      <th>0.25</th>\n",
       "      <td>51.0</td>\n",
       "      <td>175.0</td>\n",
       "    </tr>\n",
       "    <tr>\n",
       "      <th>0.50</th>\n",
       "      <td>55.0</td>\n",
       "      <td>182.0</td>\n",
       "    </tr>\n",
       "    <tr>\n",
       "      <th>0.75</th>\n",
       "      <td>58.0</td>\n",
       "      <td>183.0</td>\n",
       "    </tr>\n",
       "    <tr>\n",
       "      <th>1.00</th>\n",
       "      <td>70.0</td>\n",
       "      <td>193.0</td>\n",
       "    </tr>\n",
       "  </tbody>\n",
       "</table>\n",
       "</div>"
      ],
      "text/plain": [
       "       age  height\n",
       "0.25  51.0   175.0\n",
       "0.50  55.0   182.0\n",
       "0.75  58.0   183.0\n",
       "1.00  70.0   193.0"
      ]
     },
     "execution_count": 17,
     "metadata": {},
     "output_type": "execute_result"
    }
   ],
   "source": [
    "# Now let's try it using DF\n",
    "us_president[['age', 'height']].quantile([0.25, 0.5, 0.75, 1])"
   ]
  },
  {
   "cell_type": "markdown",
   "metadata": {},
   "source": [
    "# Measure of Spread\n",
    "\n",
    "## Variance and Standard Deviation\n",
    "\n"
   ]
  }
 ],
 "metadata": {
  "kernelspec": {
   "display_name": "Python 3",
   "language": "python",
   "name": "python3"
  },
  "language_info": {
   "codemirror_mode": {
    "name": "ipython",
    "version": 3
   },
   "file_extension": ".py",
   "mimetype": "text/x-python",
   "name": "python",
   "nbconvert_exporter": "python",
   "pygments_lexer": "ipython3",
   "version": "3.9.13"
  },
  "orig_nbformat": 4
 },
 "nbformat": 4,
 "nbformat_minor": 2
}
